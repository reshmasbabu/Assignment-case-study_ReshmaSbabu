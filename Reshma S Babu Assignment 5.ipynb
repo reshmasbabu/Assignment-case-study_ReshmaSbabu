{
 "cells": [
  {
   "cell_type": "markdown",
   "id": "749fc122",
   "metadata": {},
   "source": [
    "# Case Study on Regression"
   ]
  },
  {
   "cell_type": "markdown",
   "id": "7c1f7b73",
   "metadata": {},
   "source": [
    "The given dataset contains price of second-hand Hyundai grand i10 car with respect to year of making. Find the best linear relationship between year and price. Can you predict the possible price of a 2022 model second-hand grand i10?\n",
    "Please learn about lasso regression and create a model along with linear regression. Find out which one is performing better."
   ]
  },
  {
   "cell_type": "markdown",
   "id": "443f55e2",
   "metadata": {},
   "source": [
    "# Identify details of data\n"
   ]
  },
  {
   "cell_type": "code",
   "execution_count": 1,
   "id": "7991584a",
   "metadata": {},
   "outputs": [],
   "source": [
    "import numpy as np\n",
    "import pandas as pd\n",
    "import matplotlib.pyplot as plt\n",
    "import seaborn as sns"
   ]
  },
  {
   "cell_type": "code",
   "execution_count": 2,
   "id": "411d302e",
   "metadata": {},
   "outputs": [],
   "source": [
    "data=pd.read_csv(\"car_age_price.csv\")"
   ]
  },
  {
   "cell_type": "code",
   "execution_count": 3,
   "id": "a02417c4",
   "metadata": {},
   "outputs": [
    {
     "data": {
      "text/html": [
       "<div>\n",
       "<style scoped>\n",
       "    .dataframe tbody tr th:only-of-type {\n",
       "        vertical-align: middle;\n",
       "    }\n",
       "\n",
       "    .dataframe tbody tr th {\n",
       "        vertical-align: top;\n",
       "    }\n",
       "\n",
       "    .dataframe thead th {\n",
       "        text-align: right;\n",
       "    }\n",
       "</style>\n",
       "<table border=\"1\" class=\"dataframe\">\n",
       "  <thead>\n",
       "    <tr style=\"text-align: right;\">\n",
       "      <th></th>\n",
       "      <th>Year</th>\n",
       "      <th>Price</th>\n",
       "    </tr>\n",
       "  </thead>\n",
       "  <tbody>\n",
       "    <tr>\n",
       "      <th>0</th>\n",
       "      <td>2018</td>\n",
       "      <td>465000</td>\n",
       "    </tr>\n",
       "    <tr>\n",
       "      <th>1</th>\n",
       "      <td>2019</td>\n",
       "      <td>755000</td>\n",
       "    </tr>\n",
       "    <tr>\n",
       "      <th>2</th>\n",
       "      <td>2019</td>\n",
       "      <td>700000</td>\n",
       "    </tr>\n",
       "    <tr>\n",
       "      <th>3</th>\n",
       "      <td>2018</td>\n",
       "      <td>465000</td>\n",
       "    </tr>\n",
       "    <tr>\n",
       "      <th>4</th>\n",
       "      <td>2018</td>\n",
       "      <td>465000</td>\n",
       "    </tr>\n",
       "  </tbody>\n",
       "</table>\n",
       "</div>"
      ],
      "text/plain": [
       "   Year   Price\n",
       "0  2018  465000\n",
       "1  2019  755000\n",
       "2  2019  700000\n",
       "3  2018  465000\n",
       "4  2018  465000"
      ]
     },
     "execution_count": 3,
     "metadata": {},
     "output_type": "execute_result"
    }
   ],
   "source": [
    "data.head()"
   ]
  },
  {
   "cell_type": "code",
   "execution_count": 4,
   "id": "c2b94e96",
   "metadata": {},
   "outputs": [
    {
     "data": {
      "text/plain": [
       "(112, 2)"
      ]
     },
     "execution_count": 4,
     "metadata": {},
     "output_type": "execute_result"
    }
   ],
   "source": [
    "data.shape"
   ]
  },
  {
   "cell_type": "code",
   "execution_count": 5,
   "id": "13b915cc",
   "metadata": {},
   "outputs": [
    {
     "name": "stdout",
     "output_type": "stream",
     "text": [
      "<class 'pandas.core.frame.DataFrame'>\n",
      "RangeIndex: 112 entries, 0 to 111\n",
      "Data columns (total 2 columns):\n",
      " #   Column  Non-Null Count  Dtype\n",
      "---  ------  --------------  -----\n",
      " 0   Year    112 non-null    int64\n",
      " 1   Price   112 non-null    int64\n",
      "dtypes: int64(2)\n",
      "memory usage: 1.9 KB\n"
     ]
    }
   ],
   "source": [
    "data.info()"
   ]
  },
  {
   "cell_type": "code",
   "execution_count": 6,
   "id": "3dc7cec9",
   "metadata": {},
   "outputs": [
    {
     "data": {
      "text/html": [
       "<div>\n",
       "<style scoped>\n",
       "    .dataframe tbody tr th:only-of-type {\n",
       "        vertical-align: middle;\n",
       "    }\n",
       "\n",
       "    .dataframe tbody tr th {\n",
       "        vertical-align: top;\n",
       "    }\n",
       "\n",
       "    .dataframe thead th {\n",
       "        text-align: right;\n",
       "    }\n",
       "</style>\n",
       "<table border=\"1\" class=\"dataframe\">\n",
       "  <thead>\n",
       "    <tr style=\"text-align: right;\">\n",
       "      <th></th>\n",
       "      <th>Year</th>\n",
       "      <th>Price</th>\n",
       "    </tr>\n",
       "  </thead>\n",
       "  <tbody>\n",
       "    <tr>\n",
       "      <th>count</th>\n",
       "      <td>112.000000</td>\n",
       "      <td>112.000000</td>\n",
       "    </tr>\n",
       "    <tr>\n",
       "      <th>mean</th>\n",
       "      <td>2016.669643</td>\n",
       "      <td>483866.044643</td>\n",
       "    </tr>\n",
       "    <tr>\n",
       "      <th>std</th>\n",
       "      <td>1.629616</td>\n",
       "      <td>91217.450533</td>\n",
       "    </tr>\n",
       "    <tr>\n",
       "      <th>min</th>\n",
       "      <td>2013.000000</td>\n",
       "      <td>300000.000000</td>\n",
       "    </tr>\n",
       "    <tr>\n",
       "      <th>25%</th>\n",
       "      <td>2015.000000</td>\n",
       "      <td>423750.000000</td>\n",
       "    </tr>\n",
       "    <tr>\n",
       "      <th>50%</th>\n",
       "      <td>2017.000000</td>\n",
       "      <td>500000.000000</td>\n",
       "    </tr>\n",
       "    <tr>\n",
       "      <th>75%</th>\n",
       "      <td>2017.000000</td>\n",
       "      <td>550000.000000</td>\n",
       "    </tr>\n",
       "    <tr>\n",
       "      <th>max</th>\n",
       "      <td>2020.000000</td>\n",
       "      <td>755000.000000</td>\n",
       "    </tr>\n",
       "  </tbody>\n",
       "</table>\n",
       "</div>"
      ],
      "text/plain": [
       "              Year          Price\n",
       "count   112.000000     112.000000\n",
       "mean   2016.669643  483866.044643\n",
       "std       1.629616   91217.450533\n",
       "min    2013.000000  300000.000000\n",
       "25%    2015.000000  423750.000000\n",
       "50%    2017.000000  500000.000000\n",
       "75%    2017.000000  550000.000000\n",
       "max    2020.000000  755000.000000"
      ]
     },
     "execution_count": 6,
     "metadata": {},
     "output_type": "execute_result"
    }
   ],
   "source": [
    "data.describe()"
   ]
  },
  {
   "cell_type": "code",
   "execution_count": null,
   "id": "e6d4399c",
   "metadata": {},
   "outputs": [],
   "source": []
  },
  {
   "cell_type": "code",
   "execution_count": null,
   "id": "45d86bf3",
   "metadata": {},
   "outputs": [],
   "source": []
  },
  {
   "cell_type": "markdown",
   "id": "e8489b1e",
   "metadata": {},
   "source": [
    "# Data Preprocessing"
   ]
  },
  {
   "cell_type": "code",
   "execution_count": 7,
   "id": "78f22c27",
   "metadata": {},
   "outputs": [
    {
     "data": {
      "text/plain": [
       "Year     0\n",
       "Price    0\n",
       "dtype: int64"
      ]
     },
     "execution_count": 7,
     "metadata": {},
     "output_type": "execute_result"
    }
   ],
   "source": [
    "data.isna().sum()"
   ]
  },
  {
   "cell_type": "code",
   "execution_count": 8,
   "id": "651c1973",
   "metadata": {},
   "outputs": [
    {
     "data": {
      "text/plain": [
       "Year     int64\n",
       "Price    int64\n",
       "dtype: object"
      ]
     },
     "execution_count": 8,
     "metadata": {},
     "output_type": "execute_result"
    }
   ],
   "source": [
    "data.dtypes"
   ]
  },
  {
   "cell_type": "markdown",
   "id": "ad6419fa",
   "metadata": {},
   "source": [
    "# Visualisation"
   ]
  },
  {
   "cell_type": "code",
   "execution_count": 9,
   "id": "783daff1",
   "metadata": {},
   "outputs": [
    {
     "data": {
      "text/plain": [
       "<AxesSubplot:title={'center':'Price Vs Year'}, xlabel='Price', ylabel='Year'>"
      ]
     },
     "execution_count": 9,
     "metadata": {},
     "output_type": "execute_result"
    },
    {
     "data": {
      "image/png": "[encoded data removed]",
      "text/plain": [
       "<Figure size 432x288 with 1 Axes>"
      ]
     },
     "metadata": {
      "needs_background": "light"
     },
     "output_type": "display_data"
    }
   ],
   "source": [
    "data.plot.scatter(x=\"Price\", y=\"Year\", title=\"Price Vs Year\")"
   ]
  },
  {
   "cell_type": "code",
   "execution_count": 10,
   "id": "6f87a17f",
   "metadata": {},
   "outputs": [
    {
     "data": {
      "image/png": "[encoded data removed]",
      "text/plain": [
       "<Figure size 360x360 with 1 Axes>"
      ]
     },
     "metadata": {
      "needs_background": "light"
     },
     "output_type": "display_data"
    }
   ],
   "source": [
    "sns.displot(x=\"Year\",data=data)\n",
    "plt.show()"
   ]
  },
  {
   "cell_type": "code",
   "execution_count": 11,
   "id": "d2af2489",
   "metadata": {},
   "outputs": [
    {
     "data": {
      "image/png": "[encoded data removed]",
      "text/plain": [
       "<Figure size 360x360 with 1 Axes>"
      ]
     },
     "metadata": {
      "needs_background": "light"
     },
     "output_type": "display_data"
    }
   ],
   "source": [
    "sns.displot(x=\"Price\",data=data)\n",
    "plt.show()"
   ]
  },
  {
   "cell_type": "code",
   "execution_count": 12,
   "id": "52322b38",
   "metadata": {},
   "outputs": [
    {
     "data": {
      "text/html": [
       "<div>\n",
       "<style scoped>\n",
       "    .dataframe tbody tr th:only-of-type {\n",
       "        vertical-align: middle;\n",
       "    }\n",
       "\n",
       "    .dataframe tbody tr th {\n",
       "        vertical-align: top;\n",
       "    }\n",
       "\n",
       "    .dataframe thead th {\n",
       "        text-align: right;\n",
       "    }\n",
       "</style>\n",
       "<table border=\"1\" class=\"dataframe\">\n",
       "  <thead>\n",
       "    <tr style=\"text-align: right;\">\n",
       "      <th></th>\n",
       "      <th>Year</th>\n",
       "      <th>Price</th>\n",
       "    </tr>\n",
       "  </thead>\n",
       "  <tbody>\n",
       "    <tr>\n",
       "      <th>Year</th>\n",
       "      <td>1.000000</td>\n",
       "      <td>0.776302</td>\n",
       "    </tr>\n",
       "    <tr>\n",
       "      <th>Price</th>\n",
       "      <td>0.776302</td>\n",
       "      <td>1.000000</td>\n",
       "    </tr>\n",
       "  </tbody>\n",
       "</table>\n",
       "</div>"
      ],
      "text/plain": [
       "           Year     Price\n",
       "Year   1.000000  0.776302\n",
       "Price  0.776302  1.000000"
      ]
     },
     "execution_count": 12,
     "metadata": {},
     "output_type": "execute_result"
    }
   ],
   "source": [
    "data.corr()"
   ]
  },
  {
   "cell_type": "markdown",
   "id": "66184b43",
   "metadata": {},
   "source": [
    "Since the data doesnt have missing values and outliers, no need to drop any values. Also datatypes are all intergers, hence no need of scoding and scaling required here. Hence we can go directly for machine learning model building to find the best linear relation between the year and price of cars"
   ]
  },
  {
   "cell_type": "markdown",
   "id": "70a45605",
   "metadata": {},
   "source": [
    "# Machine learning model building"
   ]
  },
  {
   "cell_type": "code",
   "execution_count": 13,
   "id": "338a98bb",
   "metadata": {},
   "outputs": [
    {
     "name": "stdout",
     "output_type": "stream",
     "text": [
      "X is 0      2018\n",
      "1      2019\n",
      "2      2019\n",
      "3      2018\n",
      "4      2018\n",
      "       ... \n",
      "107    2016\n",
      "108    2014\n",
      "109    2015\n",
      "110    2016\n",
      "111    2015\n",
      "Name: Year, Length: 112, dtype: int64\n",
      "y is 0      465000\n",
      "1      755000\n",
      "2      700000\n",
      "3      465000\n",
      "4      465000\n",
      "        ...  \n",
      "107    375000\n",
      "108    300000\n",
      "109    425000\n",
      "110    420000\n",
      "111    425000\n",
      "Name: Price, Length: 112, dtype: int64\n"
     ]
    }
   ],
   "source": [
    "#declaring x and y variables\n",
    "X=data[\"Year\"]\n",
    "y=data[\"Price\"]\n",
    "print(\"X is\", X)\n",
    "print(\"y is\", y)"
   ]
  },
  {
   "cell_type": "code",
   "execution_count": 14,
   "id": "22ad7069",
   "metadata": {},
   "outputs": [
    {
     "name": "stdout",
     "output_type": "stream",
     "text": [
      "[2018 2019 2019 2018 2018 2015 2016 2017 2017 2017 2019 2018 2017 2019\n",
      " 2017 2017 2017 2017 2019 2017 2018 2019 2015 2017 2017 2017 2017 2017\n",
      " 2017 2017 2019 2017 2017 2017 2017 2017 2017 2017 2018 2020 2019 2019\n",
      " 2018 2019 2019 2018 2019 2018 2016 2018 2013 2018 2013 2013 2017 2017\n",
      " 2014 2017 2014 2016 2015 2017 2017 2017 2015 2017 2017 2015 2015 2015\n",
      " 2015 2017 2015 2013 2017 2017 2015 2015 2015 2015 2015 2014 2015 2017\n",
      " 2015 2015 2017 2017 2017 2017 2017 2017 2017 2017 2017 2017 2017 2020\n",
      " 2020 2020 2016 2015 2015 2017 2014 2014 2015 2016 2014 2015 2016 2015]\n"
     ]
    }
   ],
   "source": [
    "#fetching the values from the given column\n",
    "print(data[\"Year\"].values)"
   ]
  },
  {
   "cell_type": "code",
   "execution_count": 33,
   "id": "e56f43c8",
   "metadata": {},
   "outputs": [
    {
     "name": "stdout",
     "output_type": "stream",
     "text": [
      "[[2018]\n",
      " [2019]\n",
      " [2019]\n",
      " [2018]\n",
      " [2018]\n",
      " [2015]\n",
      " [2016]\n",
      " [2017]\n",
      " [2017]\n",
      " [2017]\n",
      " [2019]\n",
      " [2018]\n",
      " [2017]\n",
      " [2019]\n",
      " [2017]\n",
      " [2017]\n",
      " [2017]\n",
      " [2017]\n",
      " [2019]\n",
      " [2017]\n",
      " [2018]\n",
      " [2019]\n",
      " [2015]\n",
      " [2017]\n",
      " [2017]\n",
      " [2017]\n",
      " [2017]\n",
      " [2017]\n",
      " [2017]\n",
      " [2017]\n",
      " [2019]\n",
      " [2017]\n",
      " [2017]\n",
      " [2017]\n",
      " [2017]\n",
      " [2017]\n",
      " [2017]\n",
      " [2017]\n",
      " [2018]\n",
      " [2020]\n",
      " [2019]\n",
      " [2019]\n",
      " [2018]\n",
      " [2019]\n",
      " [2019]\n",
      " [2018]\n",
      " [2019]\n",
      " [2018]\n",
      " [2016]\n",
      " [2018]\n",
      " [2013]\n",
      " [2018]\n",
      " [2013]\n",
      " [2013]\n",
      " [2017]\n",
      " [2017]\n",
      " [2014]\n",
      " [2017]\n",
      " [2014]\n",
      " [2016]\n",
      " [2015]\n",
      " [2017]\n",
      " [2017]\n",
      " [2017]\n",
      " [2015]\n",
      " [2017]\n",
      " [2017]\n",
      " [2015]\n",
      " [2015]\n",
      " [2015]\n",
      " [2015]\n",
      " [2017]\n",
      " [2015]\n",
      " [2013]\n",
      " [2017]\n",
      " [2017]\n",
      " [2015]\n",
      " [2015]\n",
      " [2015]\n",
      " [2015]\n",
      " [2015]\n",
      " [2014]\n",
      " [2015]\n",
      " [2017]\n",
      " [2015]\n",
      " [2015]\n",
      " [2017]\n",
      " [2017]\n",
      " [2017]\n",
      " [2017]\n",
      " [2017]\n",
      " [2017]\n",
      " [2017]\n",
      " [2017]\n",
      " [2017]\n",
      " [2017]\n",
      " [2017]\n",
      " [2020]\n",
      " [2020]\n",
      " [2020]\n",
      " [2016]\n",
      " [2015]\n",
      " [2015]\n",
      " [2017]\n",
      " [2014]\n",
      " [2014]\n",
      " [2015]\n",
      " [2016]\n",
      " [2014]\n",
      " [2015]\n",
      " [2016]\n",
      " [2015]] [[465000]\n",
      " [755000]\n",
      " [700000]\n",
      " [465000]\n",
      " [465000]\n",
      " [350000]\n",
      " [425000]\n",
      " [575000]\n",
      " [509999]\n",
      " [575000]\n",
      " [500000]\n",
      " [500000]\n",
      " [500000]\n",
      " [600000]\n",
      " [475000]\n",
      " [500000]\n",
      " [500000]\n",
      " [550000]\n",
      " [500000]\n",
      " [500000]\n",
      " [500000]\n",
      " [500000]\n",
      " [434999]\n",
      " [550000]\n",
      " [550000]\n",
      " [550000]\n",
      " [550000]\n",
      " [550000]\n",
      " [550000]\n",
      " [550000]\n",
      " [650000]\n",
      " [550000]\n",
      " [550000]\n",
      " [550000]\n",
      " [450000]\n",
      " [550000]\n",
      " [550000]\n",
      " [486000]\n",
      " [475000]\n",
      " [545000]\n",
      " [525000]\n",
      " [600000]\n",
      " [550000]\n",
      " [550000]\n",
      " [550000]\n",
      " [450000]\n",
      " [500000]\n",
      " [450000]\n",
      " [396000]\n",
      " [600000]\n",
      " [325000]\n",
      " [550000]\n",
      " [345000]\n",
      " [345000]\n",
      " [525000]\n",
      " [550000]\n",
      " [341000]\n",
      " [550000]\n",
      " [450000]\n",
      " [550000]\n",
      " [490000]\n",
      " [540000]\n",
      " [540000]\n",
      " [595000]\n",
      " [490000]\n",
      " [495000]\n",
      " [525000]\n",
      " [400000]\n",
      " [465000]\n",
      " [300000]\n",
      " [450000]\n",
      " [490000]\n",
      " [300000]\n",
      " [320000]\n",
      " [490000]\n",
      " [490000]\n",
      " [450000]\n",
      " [325000]\n",
      " [409999]\n",
      " [400000]\n",
      " [390000]\n",
      " [390000]\n",
      " [390000]\n",
      " [480000]\n",
      " [325000]\n",
      " [320000]\n",
      " [520000]\n",
      " [520000]\n",
      " [520000]\n",
      " [520000]\n",
      " [520000]\n",
      " [520000]\n",
      " [520000]\n",
      " [520000]\n",
      " [520000]\n",
      " [520000]\n",
      " [520000]\n",
      " [640000]\n",
      " [700000]\n",
      " [600000]\n",
      " [350000]\n",
      " [400000]\n",
      " [350000]\n",
      " [375000]\n",
      " [400000]\n",
      " [400000]\n",
      " [300000]\n",
      " [375000]\n",
      " [300000]\n",
      " [425000]\n",
      " [420000]\n",
      " [425000]]\n"
     ]
    }
   ],
   "source": [
    "#reshaping it to our expected format to feed into the model\n",
    "\n",
    "X=data[\"Year\"].values.reshape(-1, 1)\n",
    "y=data[\"Price\"].values.reshape(-1, 1)\n",
    "print(X,y)"
   ]
  },
  {
   "cell_type": "code",
   "execution_count": 34,
   "id": "6d7d8ac0",
   "metadata": {},
   "outputs": [
    {
     "name": "stdout",
     "output_type": "stream",
     "text": [
      "X_train is [[2013]\n",
      " [2015]\n",
      " [2019]\n",
      " [2015]\n",
      " [2014]\n",
      " [2017]\n",
      " [2018]\n",
      " [2019]\n",
      " [2017]\n",
      " [2018]\n",
      " [2015]\n",
      " [2017]\n",
      " [2019]\n",
      " [2017]\n",
      " [2018]\n",
      " [2020]\n",
      " [2016]\n",
      " [2017]\n",
      " [2016]\n",
      " [2017]\n",
      " [2017]\n",
      " [2017]\n",
      " [2017]\n",
      " [2014]\n",
      " [2018]\n",
      " [2017]\n",
      " [2017]\n",
      " [2013]\n",
      " [2016]\n",
      " [2017]\n",
      " [2014]\n",
      " [2017]\n",
      " [2018]\n",
      " [2019]\n",
      " [2019]\n",
      " [2015]\n",
      " [2016]\n",
      " [2017]\n",
      " [2013]\n",
      " [2013]\n",
      " [2017]\n",
      " [2017]\n",
      " [2018]\n",
      " [2015]\n",
      " [2017]\n",
      " [2015]\n",
      " [2019]\n",
      " [2014]\n",
      " [2015]\n",
      " [2017]\n",
      " [2015]\n",
      " [2020]\n",
      " [2017]\n",
      " [2020]\n",
      " [2015]\n",
      " [2016]\n",
      " [2017]\n",
      " [2019]\n",
      " [2014]\n",
      " [2017]\n",
      " [2018]\n",
      " [2017]\n",
      " [2017]\n",
      " [2015]\n",
      " [2017]\n",
      " [2015]\n",
      " [2015]\n",
      " [2015]\n",
      " [2017]\n",
      " [2017]\n",
      " [2015]\n",
      " [2019]\n",
      " [2016]\n",
      " [2017]\n",
      " [2017]\n",
      " [2019]\n",
      " [2019]\n",
      " [2017]\n",
      " [2017]\n",
      " [2017]\n",
      " [2017]\n",
      " [2015]\n",
      " [2018]\n",
      " [2014]\n",
      " [2017]\n",
      " [2017]\n",
      " [2017]\n",
      " [2017]\n",
      " [2015]]\n",
      "y_train is\n",
      " [[325000]\n",
      " [425000]\n",
      " [600000]\n",
      " [450000]\n",
      " [400000]\n",
      " [525000]\n",
      " [500000]\n",
      " [550000]\n",
      " [490000]\n",
      " [500000]\n",
      " [300000]\n",
      " [550000]\n",
      " [650000]\n",
      " [525000]\n",
      " [465000]\n",
      " [600000]\n",
      " [420000]\n",
      " [550000]\n",
      " [396000]\n",
      " [550000]\n",
      " [520000]\n",
      " [550000]\n",
      " [520000]\n",
      " [341000]\n",
      " [465000]\n",
      " [550000]\n",
      " [520000]\n",
      " [345000]\n",
      " [375000]\n",
      " [595000]\n",
      " [390000]\n",
      " [520000]\n",
      " [475000]\n",
      " [700000]\n",
      " [600000]\n",
      " [434999]\n",
      " [350000]\n",
      " [480000]\n",
      " [320000]\n",
      " [345000]\n",
      " [520000]\n",
      " [520000]\n",
      " [465000]\n",
      " [300000]\n",
      " [575000]\n",
      " [400000]\n",
      " [525000]\n",
      " [400000]\n",
      " [425000]\n",
      " [375000]\n",
      " [490000]\n",
      " [545000]\n",
      " [486000]\n",
      " [640000]\n",
      " [450000]\n",
      " [425000]\n",
      " [520000]\n",
      " [500000]\n",
      " [300000]\n",
      " [550000]\n",
      " [450000]\n",
      " [550000]\n",
      " [540000]\n",
      " [390000]\n",
      " [500000]\n",
      " [325000]\n",
      " [400000]\n",
      " [320000]\n",
      " [500000]\n",
      " [520000]\n",
      " [325000]\n",
      " [500000]\n",
      " [550000]\n",
      " [550000]\n",
      " [500000]\n",
      " [500000]\n",
      " [755000]\n",
      " [550000]\n",
      " [520000]\n",
      " [520000]\n",
      " [490000]\n",
      " [390000]\n",
      " [450000]\n",
      " [450000]\n",
      " [450000]\n",
      " [550000]\n",
      " [550000]\n",
      " [550000]\n",
      " [409999]]\n"
     ]
    },
    {
     "data": {
      "text/plain": [
       "(89, 1)"
      ]
     },
     "execution_count": 34,
     "metadata": {},
     "output_type": "execute_result"
    }
   ],
   "source": [
    "#split the dataset to train and test\n",
    "from sklearn.model_selection import train_test_split\n",
    "X_train,X_test,y_train,y_test=train_test_split(X,y,test_size=0.2,random_state=143)\n",
    "print(\"X_train is\", X_train)\n",
    "print(\"y_train is\\n\", y_train)\n",
    "X_train.shape"
   ]
  },
  {
   "cell_type": "code",
   "execution_count": 35,
   "id": "1cf72ec7",
   "metadata": {},
   "outputs": [],
   "source": [
    "#train our linear regression model\n",
    "from sklearn.linear_model import LinearRegression\n",
    "regressor=LinearRegression()"
   ]
  },
  {
   "cell_type": "code",
   "execution_count": 36,
   "id": "c5f5ecb3",
   "metadata": {
    "scrolled": true
   },
   "outputs": [
    {
     "data": {
      "text/plain": [
       "LinearRegression()"
      ]
     },
     "execution_count": 36,
     "metadata": {},
     "output_type": "execute_result"
    }
   ],
   "source": [
    "#lets fit the data\n",
    "regressor.fit(X_train,y_train)"
   ]
  },
  {
   "cell_type": "code",
   "execution_count": 39,
   "id": "20215e0c",
   "metadata": {},
   "outputs": [
    {
     "name": "stdout",
     "output_type": "stream",
     "text": [
      "For the given Years the car price will be: [[327338.44874223]]\n"
     ]
    }
   ],
   "source": [
    "#make a prediction\n",
    "pred=regressor.predict([[2013]])\n",
    "print(\"For the given Year the car price will be:\",pred)"
   ]
  },
  {
   "cell_type": "code",
   "execution_count": 41,
   "id": "25797033",
   "metadata": {},
   "outputs": [
    {
     "name": "stdout",
     "output_type": "stream",
     "text": [
      "y_pred for the given test data is \n",
      " [[411449.8260752 ]\n",
      " [495561.20340817]\n",
      " [411449.8260752 ]\n",
      " [495561.20340817]\n",
      " [495561.20340817]\n",
      " [411449.8260752 ]\n",
      " [495561.20340817]\n",
      " [411449.8260752 ]\n",
      " [495561.20340817]\n",
      " [411449.8260752 ]\n",
      " [495561.20340817]\n",
      " [621728.26940763]\n",
      " [537616.89207466]\n",
      " [495561.20340817]\n",
      " [495561.20340817]\n",
      " [579672.58074114]\n",
      " [579672.58074114]\n",
      " [495561.20340817]\n",
      " [537616.89207466]\n",
      " [495561.20340817]\n",
      " [495561.20340817]\n",
      " [411449.8260752 ]\n",
      " [537616.89207466]]\n"
     ]
    }
   ],
   "source": [
    "y_pred=regressor.predict(X_test)\n",
    "print(\"y_pred for the given test data is \\n\", y_pred)"
   ]
  },
  {
   "cell_type": "code",
   "execution_count": 42,
   "id": "68503109",
   "metadata": {},
   "outputs": [
    {
     "name": "stdout",
     "output_type": "stream",
     "text": [
      "R squared value is 0.6159560502733572\n",
      "Mean squared error is 2832632424.3420053\n"
     ]
    }
   ],
   "source": [
    "from sklearn.metrics import r2_score, mean_squared_error\n",
    "print(\"R squared value is\",r2_score(y_test,y_pred))\n",
    "print(\"Mean squared error is\", mean_squared_error(y_test,y_pred))"
   ]
  },
  {
   "cell_type": "markdown",
   "id": "f731b56f",
   "metadata": {},
   "source": [
    "# Find the best linear relationship between year and price."
   ]
  },
  {
   "cell_type": "code",
   "execution_count": 59,
   "id": "448454f5",
   "metadata": {},
   "outputs": [
    {
     "data": {
      "image/png": "[encoded data removed]",
      "text/plain": [
       "<Figure size 432x288 with 1 Axes>"
      ]
     },
     "metadata": {
      "needs_background": "light"
     },
     "output_type": "display_data"
    }
   ],
   "source": [
    "plt.scatter(X_train, y_train,color='b') \n",
    "plt.plot(X_test, y_pred,color='r') \n",
    "plt.show()"
   ]
  },
  {
   "cell_type": "markdown",
   "id": "8a36184d",
   "metadata": {},
   "source": [
    "# Can you predict the possible price of a 2022 model second-hand grand i10?"
   ]
  },
  {
   "cell_type": "code",
   "execution_count": 43,
   "id": "cc9afc41",
   "metadata": {},
   "outputs": [
    {
     "name": "stdout",
     "output_type": "stream",
     "text": [
      "For the given Year the car price will be: [[705839.6467406]]\n"
     ]
    }
   ],
   "source": [
    "pred=regressor.predict([[2022]])\n",
    "print(\"For the given Year the car price will be:\",pred)"
   ]
  },
  {
   "cell_type": "markdown",
   "id": "1bc220d1",
   "metadata": {},
   "source": [
    "# Output\n",
    "Possible price of a 2022 model second -hand grand i10 will be 705839.6467"
   ]
  },
  {
   "cell_type": "markdown",
   "id": "5e564b61",
   "metadata": {},
   "source": [
    "# Lasso regression\n"
   ]
  },
  {
   "cell_type": "code",
   "execution_count": 44,
   "id": "3a5e4308",
   "metadata": {},
   "outputs": [],
   "source": [
    "from sklearn.linear_model import Lasso"
   ]
  },
  {
   "cell_type": "code",
   "execution_count": 45,
   "id": "fa77d228",
   "metadata": {},
   "outputs": [
    {
     "data": {
      "text/plain": [
       "(0.6159542505327076, 0.5926752043928567)"
      ]
     },
     "execution_count": 45,
     "metadata": {},
     "output_type": "execute_result"
    }
   ],
   "source": [
    "# Create an instance of Lasso Regression implementation\n",
    "lasso = Lasso(alpha=1.0)\n",
    "# Fit the Lasso model\n",
    "lasso.fit(X_train, y_train)\n",
    "# Create the model score\n",
    "lasso.score(X_test, y_test), lasso.score(X_train, y_train)"
   ]
  },
  {
   "cell_type": "code",
   "execution_count": 52,
   "id": "4d67a66f",
   "metadata": {},
   "outputs": [],
   "source": [
    "y_prd=lasso.predict(X_test)"
   ]
  },
  {
   "cell_type": "code",
   "execution_count": 54,
   "id": "6fbc50be",
   "metadata": {},
   "outputs": [
    {
     "name": "stdout",
     "output_type": "stream",
     "text": [
      "mse =  2832632424.3420053\n"
     ]
    }
   ],
   "source": [
    "print(\"mse = \",mean_squared_error(y_test, y_pred))"
   ]
  },
  {
   "cell_type": "code",
   "execution_count": 55,
   "id": "410eaf24",
   "metadata": {},
   "outputs": [
    {
     "name": "stdout",
     "output_type": "stream",
     "text": [
      "R squared value is 0.6159560502733572\n"
     ]
    }
   ],
   "source": [
    "print(\"R squared value is\",r2_score(y_test,y_pred))"
   ]
  },
  {
   "cell_type": "markdown",
   "id": "34b39d82",
   "metadata": {},
   "source": [
    "# OUTPUT"
   ]
  },
  {
   "cell_type": "markdown",
   "id": "508bfc64",
   "metadata": {},
   "source": [
    "Both Linear regression and Lasso model is having same R2 score and MSE value. Hence both are performing well to predict the price of car for a given year"
   ]
  },
  {
   "cell_type": "code",
   "execution_count": null,
   "id": "ff412ac0",
   "metadata": {},
   "outputs": [],
   "source": []
  }
 ],
 "metadata": {
  "kernelspec": {
   "display_name": "Python 3 (ipykernel)",
   "language": "python",
   "name": "python3"
  },
  "language_info": {
   "codemirror_mode": {
    "name": "ipython",
    "version": 3
   },
   "file_extension": ".py",
   "mimetype": "text/x-python",
   "name": "python",
   "nbconvert_exporter": "python",
   "pygments_lexer": "ipython3",
   "version": "3.9.7"
  }
 },
 "nbformat": 4,
 "nbformat_minor": 5
}
